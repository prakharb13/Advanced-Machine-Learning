{
 "cells": [
  {
   "cell_type": "markdown",
   "metadata": {
    "id": "evHVxwk2JA-3"
   },
   "source": [
    "# <p style=\"text-align: center;\">MIS 382N: Advanced Machine Learning</p>"
   ]
  },
  {
   "cell_type": "code",
   "execution_count": 2,
   "metadata": {
    "id": "0eTfjKUv7_Yo"
   },
   "outputs": [],
   "source": [
    "import matplotlib.pyplot as plt\n",
    "%matplotlib inline\n",
    "import numpy as np"
   ]
  },
  {
   "cell_type": "markdown",
   "metadata": {
    "id": "TWWU_gOSLEEv"
   },
   "source": [
    "# Question 1: MLOps\n",
    "Read this [article](https://towardsdatascience.com/what-is-mlops-everything-you-must-know-to-get-started-523f2d0b8bd8) \"What is MLOps — Everything You Must Know to Get Started\", which gives a quick walkthrough of the machine learning development lifecycle and explains how MLOps come into play, or watch this [video](https://www.youtube.com/watch?v=06-AZXmwHjo) which you may find interesting.\n",
    "\n",
    "1. Use your own words to describe what MLOps is, and what challenges MLOps address. Limit your answer to one paragraph.\n",
    "\n",
    "2. Describe what the main phases in MLOps are. Your answer should be 2-3 paragraphs.\n",
    "\n",
    "\n",
    "## Answer:\n",
    "1. MLOps is an engineering discipline that aims to bring together Model development and deployment into onw umbrella. Like Software Development Life Cycle, ML Development life cycle combines all the steps in a model development process. The steps involved in a particular Machine Learning Operations (MLOps) life cycle are: Framing ML problems form busines objectives,Data avavailability and storage, data cleaning and model development, model depoyment and finally mainiting models ensure performance metric does not dip. MLops provide a standar and streamlined way to scale models across the organization. Because of so many steps involved, it is difficult to hire Data Scientists who are good at both model development and deployment. Thus within the MLops hierarchy, a sweet spot is generated knows an ML engineers who are good at both Dat Science and Devops track. Another challege that MLOps addresses is the need to change the models ona conitnuos basis reflecting the changing business objective. A new data stream might be available, or data security becomes important because of external changes. MLops ensures there issues are handled seamlessly. The communication gap between Product and engineering team is easy because now there are not multiple teams to interact with. product owners can talk to MLOps team and understand/communicate any issues/changes arising in the model development or deployment. Finally MLops addresses the cost or risk of an irrelevant or poor performing model. While developing a model, it is important that the benefit of accurately predicting the target should far outweight the risk of falsely predicting. This is done through regular monitoring and maintainance of the model deployed in production.\n",
    "\n",
    "\n",
    "2. \n",
    "   \n",
    "   MLOps is an ecosystem of Machine Learning and Data Science. It brings together different phases or processes into one discipline but involves a lot of different team or people with varied skill sets to perform the tasks. The first phase in MLOps development cycle is framing of Machine Learning problems from business objectives. The product owners or business stakeholders approach the MLOps team to improve a business metric like increasing CTR by 1% or detecting tumor with more than 90% accuracy. To be able to translate the business problem into a defined machine Learning problem involves a lot of discussion with the business team. \n",
    "  \n",
    "   Once the problem is defined then the team starts looking at what data it requires to train or build the model. The team looks at current sources of data and whether they can be reliable used. We should check if it is compliant with government regulations like GDPR. Besides that we should also look at credibility of data and how it is to be made available to the model development team. Whether we need static or stream data pipeline. The third step is to clean the data and perform feature engineering like formatting the timestamps, adding indexes for better and faster querying. Generally Data engineering team cleans the data and ensures it is made available to the Data Science team for model development. An important step here is understand the requirement of the team ingesting the data to select the cloud services for storage of the data. The fourth step is performed by Data Science team and it involves EDA and model building. The DS team builds different models with varied hyperparameter tuning and also performs feature engineering which can improve the model performance. The key idea here is to go back to first step when we defined business objectives and model metrics. The DS team ensures that the final model improves the metric. The team also performs unit testing and checks it against baseline numbers like rolling mean or weighted average and only finalizes the model when it performs significantly better than the baselines.\n",
    "   \n",
    "   The fifth step is to build model pipelines to deploy it on the web. This step is generally performed by DevOps team but recently ML Engineers are also hired for model deployment. The steps involved constructing training and testing pipelines and choosing an appropriate cloud model. Sixth step is model deployment. While looking at deployment, the team has to look for end use case. If it is to be embedded in an application or serve real time using an API. For dynamic deployment, team looks at optims like deploying on a server or container. While deploying, it is important to load test the model so that it works during peak hours. Other checks like data governance compliance and data validation are also done. The last and final step is to monitor, optimize and maintain the deployed models. This step is generally closely monitored by different teams and numerous dashboards are created to ensure that all the above steps are performing as per expectations."
   ]
  },
  {
   "cell_type": "markdown",
   "metadata": {
    "id": "wusA9L1LmUMH"
   },
   "source": [
    "# Question 2: Applications of Machine Learning (5 pts)\n",
    "Read this [article](https://builtin.com/data-science/data-science-applications-examples) \"17 Data Science Applications & Examples\" and pick one of the data science systems used by various organizations according to this blog. \n",
    "\n",
    "For this system you have chosen, answer the following questions. Please limit your answer to one paragraph:\n",
    "\n",
    "1. What kind of machine learning problem is involved (e.g. classification, regression, clustering, outlier detection,...) in this system?\n",
    "2. Speculate on what kind of data may be needed and how the results can be useful to the organization.\n",
    "3. What do you think are the ethical implications of using machine learning in a domain like this?\n",
    "\n",
    "## Answer:\n",
    "1. Out of the many data science systems mentioned in the article, I find the application of data science in Instagram's targeting of sponsored products to be the most interesting. The article mentions how Instagram uses data to suggest sponsored posts to its users. It is a regression problem because the algorithm is trying to maximize the Click Through Rate which is defined as the total number of clicks divided by the total number of impressions. If Instagram shows an ad to a user which has a higher propensity of CTR, then the probability of user clicking on the ad increases and Instagram earns money through clicking (in most cases). To accurately predict Click Through Rate for every user-ad, Instagram uses a wide variety of data from both its parent Company, Facebook's database and it's own database. The algorithm needs user specific data like their age, education, gender, marital status, location, educational status. Other data points of user would be their clicks on other ads, likes and comments on posts and their usage of other apps. The algorithm would also need the type of ad, its category, location on the app where it is being displayed and whether its a video or a photo. The final result will indicate the probability of a user clicking a particular ad. An ad will earn a revenue to the platform if it is clicked and if Instagram publishes an ad to a user with high click through rate, then the probability of earning revenue from the advertisement company increases. Accurate results will also lead to better ad positioning for the users making it a relevant experience for them. If the platform shows walking stick ad to a youngster then they not only loose out on ad revenue but also risk the chance of the customer churning."
   ]
  },
  {
   "cell_type": "markdown",
   "metadata": {
    "id": "2w8za9lLmVO7"
   },
   "source": [
    "# Question 3: Simpson's Paradox\n",
    "A data scientist should be careful about drawing unwarranted conclusions about any data that is presented. One of the 'gotchas' that can happen even in apparently very simple tabular summaries, is called Simpson's paradox.\n",
    "\n",
    "Read this [article](https://www.covid-datascience.com/post/israeli-data-how-can-efficacy-vs-severe-disease-be-strong-when-60-of-hospitalized-are-vaccinated), which explains why the computed efficacy of the Pfizer vaccine is misleadingly low (67.5%) when you lump all people together, but once you stratify people by age (which is the right thing to do), you get much higher efficacy numbers.\n",
    "\n",
    "1. Explain in your own words what Simpson's paradox is, and how this 'paradox' can happen in real data.\n",
    "\n",
    "2. Find and mention another example of Simpson's paradox (but not any of the 3 examples given in the Wikipedia entry for 'Simpson's paradox'), state why the paradox appeared in your chosen example. Also give a reference (URL) to your source for the chosen example.\n",
    "\n",
    "## Answer:\n",
    "1. Simson's paradox is a phenomena which occurs when different observations can be made from the same data. In simple words, the insights from the data changes when it is segregated by confounding or lurking variables. Statistically both the results are right but in the case of Simpson's paradox , it is important to understand the results with business context in mind. The paradox occurs when there is already inherent pattern in one of the groups of data. The phenomena generally occurs when one group increases on both the axes and other group decreases. For example in the vaccine efficacy sata, older people were highly vaccinated and higher susceptible to severe disease. While younger generation were less vaccinated and have lower chance of severe disease. Thus this data gives two different results when taken as a whole and when segregated wrt age.  \n",
    "\n",
    "\n",
    "2. The example denotes the relationship between tax burden and Gross Domestic Product of a country. Based on the data of all the countries taken together, the relationship is directly proportional which means that if a country raises its tax burden then its GDP will increase. However when the same aggregated data is segregated by WHO's definition of low-income, medium-income, high and very-high income countries, the positive relationship between tax burden and GDP vanishes. Infact in few of the grouping, the relationship actually becomes inverse. The paradox appeared in this example becasue rich countries have higher tax burden because of high productivity. Thus groups are either increasing on both tax and GDP or decreasing because of confounding variables. Statistically both the results are right but keeing in mind the context, the governments should not increase taxes to become rich. \n",
    "https://trends.ufm.edu/en/article/tax-burdens-per-capita-income-simpsons-paradox/"
   ]
  },
  {
   "cell_type": "markdown",
   "metadata": {
    "id": "gth0D8jiMBSe"
   },
   "source": [
    "# Question 4: Ridge and Lasso Regression\n",
    "\n",
    "Download the dataset **Admission.csv** from Canvas and use the following codes to import the Admission dataset in Python. \n",
    "\n",
    "There are 7 features in the dataset:\n",
    "\n",
    "1. GRE score\n",
    "2. TOEFL score\n",
    "3. University Rating\n",
    "4. SOP(Statement of Purpose)\n",
    "5. LOR(Letter of Recommendation)\n",
    "6. CGPA\n",
    "7. Research\n",
    "\n",
    "And the target is **Chance of Admission**."
   ]
  },
  {
   "cell_type": "code",
   "execution_count": 3,
   "metadata": {},
   "outputs": [
    {
     "ename": "ModuleNotFoundError",
     "evalue": "No module named 'google.colab'",
     "output_type": "error",
     "traceback": [
      "\u001b[1;31m---------------------------------------------------------------------------\u001b[0m",
      "\u001b[1;31mModuleNotFoundError\u001b[0m                       Traceback (most recent call last)",
      "\u001b[1;32m<ipython-input-3-25e79b7f35f7>\u001b[0m in \u001b[0;36m<module>\u001b[1;34m\u001b[0m\n\u001b[0;32m      1\u001b[0m \u001b[1;31m# Only use this code block if you are using Google Colab.\u001b[0m\u001b[1;33m\u001b[0m\u001b[1;33m\u001b[0m\u001b[1;33m\u001b[0m\u001b[0m\n\u001b[0;32m      2\u001b[0m \u001b[1;31m# If you are using Jupyter Notebook, please ignore this code block. You can directly upload the file to your Jupyter Notebook file systems.\u001b[0m\u001b[1;33m\u001b[0m\u001b[1;33m\u001b[0m\u001b[1;33m\u001b[0m\u001b[0m\n\u001b[1;32m----> 3\u001b[1;33m \u001b[1;32mfrom\u001b[0m \u001b[0mgoogle\u001b[0m\u001b[1;33m.\u001b[0m\u001b[0mcolab\u001b[0m \u001b[1;32mimport\u001b[0m \u001b[0mfiles\u001b[0m\u001b[1;33m\u001b[0m\u001b[1;33m\u001b[0m\u001b[0m\n\u001b[0m\u001b[0;32m      4\u001b[0m \u001b[1;33m\u001b[0m\u001b[0m\n\u001b[0;32m      5\u001b[0m \u001b[1;31m## It will prompt you to select a local file. Click on “Choose Files” then select and upload the file.\u001b[0m\u001b[1;33m\u001b[0m\u001b[1;33m\u001b[0m\u001b[1;33m\u001b[0m\u001b[0m\n",
      "\u001b[1;31mModuleNotFoundError\u001b[0m: No module named 'google.colab'"
     ]
    }
   ],
   "source": [
    "# Only use this code block if you are using Google Colab.\n",
    "# If you are using Jupyter Notebook, please ignore this code block. You can directly upload the file to your Jupyter Notebook file systems.\n",
    "from google.colab import files\n",
    "\n",
    "## It will prompt you to select a local file. Click on “Choose Files” then select and upload the file. \n",
    "## Wait for the file to be 100% uploaded. You should see the name of the file once Colab has uploaded it.\n",
    "uploaded = files.upload()"
   ]
  },
  {
   "cell_type": "code",
   "execution_count": 4,
   "metadata": {
    "id": "xsPaOOehGuU6"
   },
   "outputs": [],
   "source": [
    "# Codes below will work for both Google Colab and Jupyter Notebook.\n",
    "import numpy as np\n",
    "import pandas as pd\n",
    "import random\n",
    "from sklearn import linear_model\n",
    "from sklearn.metrics import mean_absolute_error, mean_squared_error\n",
    "from sklearn.linear_model import LinearRegression\n",
    "\n",
    "## Load the dataset into pandas DataFrame\n",
    "df = pd.read_csv('Admission.csv', index_col=0)\n",
    "df = df.replace([np.inf, -np.inf], np.nan) # \n",
    "df = df.fillna(0) # Replace all the NaN values with 0"
   ]
  },
  {
   "cell_type": "code",
   "execution_count": 5,
   "metadata": {
    "id": "PmMz72U6Gv-z"
   },
   "outputs": [
    {
     "data": {
      "text/plain": [
       "Index(['GRE_Score', 'TOEFL_Score', 'University_Rating', 'SOP', 'LOR ', 'CGPA',\n",
       "       'Research', 'Chance_of_Admit'],\n",
       "      dtype='object')"
      ]
     },
     "execution_count": 5,
     "metadata": {},
     "output_type": "execute_result"
    }
   ],
   "source": [
    "df.columns # Show you all the columns in this file"
   ]
  },
  {
   "cell_type": "code",
   "execution_count": 6,
   "metadata": {
    "id": "CyZN-yFfGxlt"
   },
   "outputs": [
    {
     "data": {
      "text/html": [
       "<div>\n",
       "<style scoped>\n",
       "    .dataframe tbody tr th:only-of-type {\n",
       "        vertical-align: middle;\n",
       "    }\n",
       "\n",
       "    .dataframe tbody tr th {\n",
       "        vertical-align: top;\n",
       "    }\n",
       "\n",
       "    .dataframe thead th {\n",
       "        text-align: right;\n",
       "    }\n",
       "</style>\n",
       "<table border=\"1\" class=\"dataframe\">\n",
       "  <thead>\n",
       "    <tr style=\"text-align: right;\">\n",
       "      <th></th>\n",
       "      <th>GRE_Score</th>\n",
       "      <th>TOEFL_Score</th>\n",
       "      <th>University_Rating</th>\n",
       "      <th>SOP</th>\n",
       "      <th>LOR</th>\n",
       "      <th>CGPA</th>\n",
       "      <th>Research</th>\n",
       "      <th>Chance_of_Admit</th>\n",
       "    </tr>\n",
       "    <tr>\n",
       "      <th>Serial No.</th>\n",
       "      <th></th>\n",
       "      <th></th>\n",
       "      <th></th>\n",
       "      <th></th>\n",
       "      <th></th>\n",
       "      <th></th>\n",
       "      <th></th>\n",
       "      <th></th>\n",
       "    </tr>\n",
       "  </thead>\n",
       "  <tbody>\n",
       "    <tr>\n",
       "      <th>1</th>\n",
       "      <td>337</td>\n",
       "      <td>118</td>\n",
       "      <td>4</td>\n",
       "      <td>4.5</td>\n",
       "      <td>4.5</td>\n",
       "      <td>9.65</td>\n",
       "      <td>1</td>\n",
       "      <td>0.92</td>\n",
       "    </tr>\n",
       "    <tr>\n",
       "      <th>2</th>\n",
       "      <td>324</td>\n",
       "      <td>107</td>\n",
       "      <td>4</td>\n",
       "      <td>4.0</td>\n",
       "      <td>4.5</td>\n",
       "      <td>8.87</td>\n",
       "      <td>1</td>\n",
       "      <td>0.76</td>\n",
       "    </tr>\n",
       "    <tr>\n",
       "      <th>3</th>\n",
       "      <td>316</td>\n",
       "      <td>104</td>\n",
       "      <td>3</td>\n",
       "      <td>3.0</td>\n",
       "      <td>3.5</td>\n",
       "      <td>8.00</td>\n",
       "      <td>1</td>\n",
       "      <td>0.72</td>\n",
       "    </tr>\n",
       "    <tr>\n",
       "      <th>4</th>\n",
       "      <td>322</td>\n",
       "      <td>110</td>\n",
       "      <td>3</td>\n",
       "      <td>3.5</td>\n",
       "      <td>2.5</td>\n",
       "      <td>8.67</td>\n",
       "      <td>1</td>\n",
       "      <td>0.80</td>\n",
       "    </tr>\n",
       "    <tr>\n",
       "      <th>5</th>\n",
       "      <td>314</td>\n",
       "      <td>103</td>\n",
       "      <td>2</td>\n",
       "      <td>2.0</td>\n",
       "      <td>3.0</td>\n",
       "      <td>8.21</td>\n",
       "      <td>0</td>\n",
       "      <td>0.65</td>\n",
       "    </tr>\n",
       "  </tbody>\n",
       "</table>\n",
       "</div>"
      ],
      "text/plain": [
       "            GRE_Score  TOEFL_Score  University_Rating  SOP  LOR   CGPA  \\\n",
       "Serial No.                                                               \n",
       "1                 337          118                  4  4.5   4.5  9.65   \n",
       "2                 324          107                  4  4.0   4.5  8.87   \n",
       "3                 316          104                  3  3.0   3.5  8.00   \n",
       "4                 322          110                  3  3.5   2.5  8.67   \n",
       "5                 314          103                  2  2.0   3.0  8.21   \n",
       "\n",
       "            Research  Chance_of_Admit  \n",
       "Serial No.                             \n",
       "1                  1             0.92  \n",
       "2                  1             0.76  \n",
       "3                  1             0.72  \n",
       "4                  1             0.80  \n",
       "5                  0             0.65  "
      ]
     },
     "execution_count": 6,
     "metadata": {},
     "output_type": "execute_result"
    }
   ],
   "source": [
    "df.head() # Show you the first 5 rows in this file"
   ]
  },
  {
   "cell_type": "code",
   "execution_count": 7,
   "metadata": {
    "id": "S3TfR0i4G2rO"
   },
   "outputs": [],
   "source": [
    "y = df['Chance_of_Admit'] # The column named Chance_of_Admit is used as the target, and we store it in y\n",
    "X = df.drop(['Chance_of_Admit'], axis=1) # We keep the remaining columns as the features, and store them in x"
   ]
  },
  {
   "cell_type": "markdown",
   "metadata": {
    "id": "pKq1KERxJw9y"
   },
   "source": [
    "1) Split the data into a training set(75% of data) and a test set(25% of data), using the [train_test_split](https://scikit-learn.org/stable/modules/generated/sklearn.model_selection.train_test_split.html) function with random_state = 50. Then scale the data (not including target) so that each of the independent variables would have zero mean and unit variance. You can use the [sklearn.preprocessing.scale](https://scikit-learn.org/stable/modules/generated/sklearn.preprocessing.scale.html) function for this. Print the first 5 rows of the training set after scaling.\n",
    "\n",
    "2) Use [sklearn.linear_model.Lasso](https://scikit-learn.org/stable/modules/generated/sklearn.linear_model.Lasso.html) and [sklearn.linear_model.Ridge](https://scikit-learn.org/stable/modules/generated/sklearn.linear_model.Ridge.html) classes to do a **5-fold** cross validation using sklearn's KFold. For the sweep of the regularization parameter, we will look at a grid of values ranging from α=10^10 to α=10^−6. In Python, you can consider this range of values as follows: alpha = 10**numpy.linspace(6,-6,100) \n",
    "so that you can generate 100 uniform values between -6 to 6 as power series.\n",
    "\n",
    "Fit the 2 regression models with scaled data and report the best chosen **α** based on cross validation as well as the corresponding scoring metric. The cross validation should happen on your training data using **MSE** as the scoring metric.\n",
    "\n",
    "3) Run ridge and lasso regression for all of the **α** specified above (on training data), and plot the coefficients learned for each of them - there should be one plot each for lasso and ridge, so a total of two plots; different features' weights of each model should be on the same plot with different colors (3pts). \n",
    "\n",
    "What do you qualitatively observe when the value of the regularization parameter changes (2pts)? \n",
    "\n",
    "4) Take the exponential of Y_train as the target, and fit the 2 regression models again. Report the best chosen **α** based on cross validation as well as the corresponding scoring metric. Compare the results of using the original target with the results of using the exponential of the target. What do you observe? \n",
    "\n",
    "5) Similarly, use [sklearn.linear_model.ElasticNet](https://scikit-learn.org/stable/modules/generated/sklearn.linear_model.ElasticNet.html) to do linear regression with different **α** values, and plot the coefficients learned for each of them (2pts). Observe the plot, then explain the pros and cons of ridge, lasso and Elastic Net models (3pts).\n",
    "\n",
    "\n",
    "6) Run the following three regression models with **MSE** loss on the training data: \n",
    "\n",
    "a. linear regression without regularization (1pts)\n",
    "\n",
    "b. linear regression with ridge regularization (2pts)\n",
    "\n",
    "c. linear regression with lasso regularization (2pts)\n",
    "\n",
    "For part (b) and (c), use only the best regularization parameters. Report the MSE and R<sup>2</sup> on the test data for each model.\n",
    "\n",
    "7) Train the 3 models and report the metrics with the original data without scaling (3pts). \n",
    "\n",
    "Why do we need to scale the data before regularization (2pts)? \n",
    "\n",
    "## Answer:\n"
   ]
  },
  {
   "cell_type": "markdown",
   "metadata": {},
   "source": [
    "## Q1"
   ]
  },
  {
   "cell_type": "code",
   "execution_count": 8,
   "metadata": {
    "id": "pJwSM8ENCYWg"
   },
   "outputs": [
    {
     "data": {
      "text/plain": [
       "array([[ 1.52725374,  2.0917706 ,  1.61594354,  0.63150829,  1.72829095,\n",
       "         2.11370277,  0.90453403],\n",
       "       [ 0.74180896,  0.46308859, -0.9310778 , -0.35266047, -1.04140609,\n",
       "         0.29488827,  0.90453403],\n",
       "       [ 0.56726568,  0.13735218,  1.61594354,  0.63150829,  0.62041214,\n",
       "         0.26211684,  0.90453403],\n",
       "       [-0.39272239, -0.51412062, -0.08207069,  0.13942391,  0.62041214,\n",
       "        -0.80295471, -1.1055416 ],\n",
       "       [ 0.47999403,  0.78882499,  0.76693642,  1.12359267,  1.17435154,\n",
       "         1.11417408,  0.90453403]])"
      ]
     },
     "execution_count": 8,
     "metadata": {},
     "output_type": "execute_result"
    }
   ],
   "source": [
    "## 1\n",
    "from sklearn.model_selection import train_test_split\n",
    "from sklearn.preprocessing import scale, StandardScaler\n",
    "\n",
    "y = y.values\n",
    "train_x, test_x, train_y, test_y = train_test_split(X, y, test_size=0.25, random_state=50)\n",
    "\n",
    "scaled = StandardScaler()\n",
    "train_x = scaled.fit_transform(train_x)\n",
    "test_x = scaled.transform(test_x)\n",
    "\n",
    "train_x[:5]"
   ]
  },
  {
   "cell_type": "markdown",
   "metadata": {},
   "source": [
    "## Q2"
   ]
  },
  {
   "cell_type": "code",
   "execution_count": 9,
   "metadata": {},
   "outputs": [],
   "source": [
    "## 2\n",
    "from sklearn.model_selection import KFold\n",
    "import numpy as np\n",
    "\n",
    "kfold = KFold(5)"
   ]
  },
  {
   "cell_type": "code",
   "execution_count": 10,
   "metadata": {},
   "outputs": [],
   "source": [
    "alpha_list = 10**np.linspace(10,-6,100) \n",
    "\n",
    "df_lasso = pd.DataFrame()\n",
    "df_lasso['model'] = ''\n",
    "df_lasso['alpha'] = ''\n",
    "df_lasso['mse'] = ''\n",
    "\n",
    "for index,alpha in enumerate(alpha_list):\n",
    "    mean_squared_error_ls = []\n",
    "    for train_index,test_index in kfold.split(train_x):\n",
    "        X_train, X_test = train_x[train_index], train_x[test_index]\n",
    "        y_train, y_test = train_y[train_index], train_y[test_index]\n",
    "\n",
    "        reg_lasso = linear_model.Lasso(alpha=alpha).fit(X_train,y_train)\n",
    "        mean_squared_error_ls.append(mean_squared_error(y_test,reg_lasso.predict(X_test)))\n",
    "\n",
    "    df_lasso.loc[index,'model'] = 'lasso'\n",
    "    df_lasso.loc[index,'alpha'] = alpha\n",
    "    df_lasso.loc[index,'mse'] = sum(mean_squared_error_ls)/5"
   ]
  },
  {
   "cell_type": "code",
   "execution_count": 11,
   "metadata": {},
   "outputs": [],
   "source": [
    "alpha_list = 10**np.linspace(10,-6,100) \n",
    "\n",
    "df_ridge = pd.DataFrame()\n",
    "df_ridge['model'] = ''\n",
    "df_ridge['alpha'] = ''\n",
    "df_ridge['mse'] = ''\n",
    "\n",
    "for index,alpha in enumerate(alpha_list):\n",
    "    mean_squared_error_ls = []\n",
    "    for train_index,test_index in kfold.split(train_x):\n",
    "        X_train, X_test = train_x[train_index], train_x[test_index]\n",
    "        y_train, y_test = train_y[train_index], train_y[test_index]\n",
    "\n",
    "        reg_ridge = linear_model.Ridge(alpha=alpha).fit(X_train,y_train)\n",
    "        mean_squared_error_ls.append(mean_squared_error(y_test,reg_ridge.predict(X_test)))\n",
    "\n",
    "    df_ridge.loc[index,'model'] = 'ridge'\n",
    "    df_ridge.loc[index,'alpha'] = alpha\n",
    "    df_ridge.loc[index,'mse'] = sum(mean_squared_error_ls)/5"
   ]
  },
  {
   "cell_type": "code",
   "execution_count": 12,
   "metadata": {},
   "outputs": [
    {
     "name": "stdout",
     "output_type": "stream",
     "text": [
      "Best alpha for Lasso Regression using 5-fold cross validation on Train dataset is:  \n",
      "     model     alpha       mse\n",
      "80  lasso  0.001177  0.004099\n"
     ]
    }
   ],
   "source": [
    "mask = (df_lasso['mse']==df_lasso['mse'].min())\n",
    "print('Best alpha for Lasso Regression using 5-fold cross validation on Train dataset is: ','\\n',df_lasso[mask])"
   ]
  },
  {
   "cell_type": "code",
   "execution_count": 13,
   "metadata": {},
   "outputs": [
    {
     "name": "stdout",
     "output_type": "stream",
     "text": [
      "Best alpha for Ridge Regression using 5-fold cross validation on Train dataset is:  \n",
      "     model     alpha       mse\n",
      "58  ridge  4.229243  0.004118\n"
     ]
    }
   ],
   "source": [
    "mask = (df_ridge['mse']==df_ridge['mse'].min())\n",
    "print('Best alpha for Ridge Regression using 5-fold cross validation on Train dataset is: ','\\n',df_ridge[mask])"
   ]
  },
  {
   "cell_type": "markdown",
   "metadata": {},
   "source": [
    "## Q3"
   ]
  },
  {
   "cell_type": "code",
   "execution_count": 14,
   "metadata": {},
   "outputs": [],
   "source": [
    "## 3\n",
    "alpha_list = 10**np.linspace(10,-6,100) \n",
    "\n",
    "df_lasso = pd.DataFrame()\n",
    "df_lasso['alpha'] = ''\n",
    "df_lasso['GRE_Score'] = ''\n",
    "df_lasso['TOEFL_Score'] = ''\n",
    "df_lasso['University_Rating'] = ''\n",
    "df_lasso['SOP'] = ''\n",
    "df_lasso['LOR'] = ''\n",
    "df_lasso['CGPA'] = ''\n",
    "df_lasso['Research'] = ''\n",
    "\n",
    "for index,alpha in enumerate(alpha_list):\n",
    "    reg_lasso = linear_model.Lasso(alpha=alpha).fit(train_x,train_y)\n",
    "    \n",
    "    \n",
    "    df_lasso.loc[index,'alpha'] = alpha\n",
    "    df_lasso.loc[index,'GRE_Score'] = reg_lasso.coef_[0]\n",
    "    df_lasso.loc[index,'TOEFL_Score'] = reg_lasso.coef_[1]\n",
    "    df_lasso.loc[index,'University_Rating'] = reg_lasso.coef_[2]\n",
    "    df_lasso.loc[index,'SOP'] = reg_lasso.coef_[3]\n",
    "    df_lasso.loc[index,'LOR'] = reg_lasso.coef_[4]\n",
    "    df_lasso.loc[index,'CGPA'] = reg_lasso.coef_[5]\n",
    "    df_lasso.loc[index,'Research'] = reg_lasso.coef_[6]"
   ]
  },
  {
   "cell_type": "code",
   "execution_count": 15,
   "metadata": {},
   "outputs": [
    {
     "data": {
      "text/plain": [
       "Text(0.5, 1.0, 'Alpha Vs Coefficient Weights for Lasso Regression')"
      ]
     },
     "execution_count": 15,
     "metadata": {},
     "output_type": "execute_result"
    },
    {
     "data": {
      "image/png": "[encoded data removed]",
      "text/plain": [
       "<Figure size 432x288 with 1 Axes>"
      ]
     },
     "metadata": {
      "needs_background": "light"
     },
     "output_type": "display_data"
    }
   ],
   "source": [
    "df_lasso['log_alpha'] = df_lasso['alpha'].apply(lambda x: np.log10(x))\n",
    "plt.plot(df_lasso['log_alpha'],df_lasso['GRE_Score'],label='GRE_Score')\n",
    "plt.plot(df_lasso['log_alpha'],df_lasso['TOEFL_Score'],label='TOEFL_Score')\n",
    "plt.plot(df_lasso['log_alpha'],df_lasso['University_Rating'],label='University_Rating')\n",
    "plt.plot(df_lasso['log_alpha'],df_lasso['SOP'],label='SOP')\n",
    "plt.plot(df_lasso['log_alpha'],df_lasso['LOR'],label='LOR')\n",
    "plt.plot(df_lasso['log_alpha'],df_lasso['CGPA'],label='CGPA')\n",
    "plt.plot(df_lasso['log_alpha'],df_lasso['Research'],label='Research')\n",
    "plt.legend(loc='best')\n",
    "plt.xlabel('alpha')\n",
    "plt.ylabel('coefficient weights')\n",
    "plt.title('Alpha Vs Coefficient Weights for Lasso Regression')"
   ]
  },
  {
   "cell_type": "markdown",
   "metadata": {},
   "source": [
    "When alpha increases, model coefficients reduces to zero. In lasso regression, large values of alpha reduces the coefficients to 0. Lasso regularization also helps in feature selection as it makes the coefficients 0."
   ]
  },
  {
   "cell_type": "code",
   "execution_count": 16,
   "metadata": {},
   "outputs": [
    {
     "data": {
      "text/plain": [
       "0.0"
      ]
     },
     "execution_count": 16,
     "metadata": {},
     "output_type": "execute_result"
    }
   ],
   "source": [
    "df_lasso['GRE_Score'][0]"
   ]
  },
  {
   "cell_type": "code",
   "execution_count": 17,
   "metadata": {
    "scrolled": true
   },
   "outputs": [
    {
     "data": {
      "text/plain": [
       "Text(0.5, 1.0, 'Alpha Vs Coefficient Weights for Ridge Regression')"
      ]
     },
     "execution_count": 17,
     "metadata": {},
     "output_type": "execute_result"
    },
    {
     "data": {
      "image/png": "[encoded data removed]",
      "text/plain": [
       "<Figure size 432x288 with 1 Axes>"
      ]
     },
     "metadata": {
      "needs_background": "light"
     },
     "output_type": "display_data"
    }
   ],
   "source": [
    "##3\n",
    "alpha_list = 10**np.linspace(10,-6,100) \n",
    "\n",
    "df_ridge = pd.DataFrame()\n",
    "df_ridge['alpha'] = ''\n",
    "df_ridge['GRE_Score'] = ''\n",
    "df_ridge['TOEFL_Score'] = ''\n",
    "df_ridge['University_Rating'] = ''\n",
    "df_ridge['SOP'] = ''\n",
    "df_ridge['LOR'] = ''\n",
    "df_ridge['CGPA'] = ''\n",
    "df_ridge['Research'] = ''\n",
    "\n",
    "for index,alpha in enumerate(alpha_list):\n",
    "    reg_ridge = linear_model.Ridge(alpha=alpha).fit(train_x,train_y)\n",
    "    \n",
    "    \n",
    "    df_ridge.loc[index,'alpha'] = alpha\n",
    "    df_ridge.loc[index,'GRE_Score'] = reg_ridge.coef_[0]\n",
    "    df_ridge.loc[index,'TOEFL_Score'] = reg_ridge.coef_[1]\n",
    "    df_ridge.loc[index,'University_Rating'] = reg_ridge.coef_[2]\n",
    "    df_ridge.loc[index,'SOP'] = reg_ridge.coef_[3]\n",
    "    df_ridge.loc[index,'LOR'] = reg_ridge.coef_[4]\n",
    "    df_ridge.loc[index,'CGPA'] = reg_ridge.coef_[5]\n",
    "    df_ridge.loc[index,'Research'] = reg_ridge.coef_[6]\n",
    "    \n",
    "df_ridge['log_alpha'] = df_ridge['alpha'].apply(lambda x: np.log10(x))\n",
    "plt.plot(df_ridge['log_alpha'],df_ridge['GRE_Score'],label='GRE_Score')\n",
    "plt.plot(df_ridge['log_alpha'],df_ridge['TOEFL_Score'],label='TOEFL_Score')\n",
    "plt.plot(df_ridge['log_alpha'],df_ridge['University_Rating'],label='University_Rating')\n",
    "plt.plot(df_ridge['log_alpha'],df_ridge['SOP'],label='SOP')\n",
    "plt.plot(df_ridge['log_alpha'],df_ridge['LOR'],label='LOR')\n",
    "plt.plot(df_ridge['log_alpha'],df_ridge['CGPA'],label='CGPA')\n",
    "plt.plot(df_ridge['log_alpha'],df_ridge['Research'],label='Research')\n",
    "plt.legend(loc='best')\n",
    "plt.xlabel('alpha')\n",
    "plt.ylabel('coefficient weights')\n",
    "plt.title('Alpha Vs Coefficient Weights for Ridge Regression')"
   ]
  },
  {
   "cell_type": "markdown",
   "metadata": {},
   "source": [
    "When alpha increases, model coefficients tend to zero. In ridge regression, very large values of alpha reduces the coefficients to very close to 0. It is used as a regularization parameter which does not make the coefficients as 0"
   ]
  },
  {
   "cell_type": "code",
   "execution_count": 18,
   "metadata": {},
   "outputs": [
    {
     "data": {
      "text/plain": [
       "3.5444063558535145e-09"
      ]
     },
     "execution_count": 18,
     "metadata": {},
     "output_type": "execute_result"
    }
   ],
   "source": [
    "df_ridge['GRE_Score'][0]"
   ]
  },
  {
   "cell_type": "markdown",
   "metadata": {},
   "source": [
    "## Q4"
   ]
  },
  {
   "cell_type": "code",
   "execution_count": 19,
   "metadata": {},
   "outputs": [],
   "source": [
    "## 4\n",
    "train_y_exp = np.exp(train_y)\n",
    "\n",
    "alpha_list = 10**np.linspace(10,-6,100) \n",
    "\n",
    "df_lasso = pd.DataFrame()\n",
    "df_lasso['model'] = ''\n",
    "df_lasso['alpha'] = ''\n",
    "df_lasso['mse'] = ''\n",
    "\n",
    "for index,alpha in enumerate(alpha_list):\n",
    "    mean_squared_error_ls = []\n",
    "    for train_index,test_index in kfold.split(train_x):\n",
    "        X_train, X_test = train_x[train_index], train_x[test_index]\n",
    "        y_train, y_test = train_y_exp[train_index], train_y_exp[test_index]\n",
    "\n",
    "        reg_lasso = linear_model.Lasso(alpha=alpha).fit(X_train,y_train)\n",
    "        mean_squared_error_ls.append(mean_squared_error(y_test,reg_lasso.predict(X_test)))\n",
    "\n",
    "    df_lasso.loc[index,'model'] = 'lasso'\n",
    "    df_lasso.loc[index,'alpha'] = alpha\n",
    "    df_lasso.loc[index,'mse'] = sum(mean_squared_error_ls)/5"
   ]
  },
  {
   "cell_type": "code",
   "execution_count": 20,
   "metadata": {},
   "outputs": [],
   "source": [
    "alpha_list = 10**np.linspace(10,-6,100) \n",
    "\n",
    "df_ridge_exp = pd.DataFrame()\n",
    "df_ridge_exp['model'] = ''\n",
    "df_ridge_exp['alpha'] = ''\n",
    "df_ridge_exp['mse'] = ''\n",
    "\n",
    "for index,alpha in enumerate(alpha_list):\n",
    "    mean_squared_error_ls = []\n",
    "    for train_index,test_index in kfold.split(train_x):\n",
    "        X_train, X_test = train_x[train_index], train_x[test_index]\n",
    "        y_train, y_test = train_y_exp[train_index], train_y_exp[test_index]\n",
    "\n",
    "        reg_ridge = linear_model.Ridge(alpha=alpha).fit(X_train,y_train)\n",
    "        mean_squared_error_ls.append(mean_squared_error(y_test,reg_ridge.predict(X_test)))\n",
    "\n",
    "    df_ridge_exp.loc[index,'model'] = 'ridge'\n",
    "    df_ridge_exp.loc[index,'alpha'] = alpha\n",
    "    df_ridge_exp.loc[index,'mse'] = sum(mean_squared_error_ls)/5"
   ]
  },
  {
   "cell_type": "code",
   "execution_count": 21,
   "metadata": {},
   "outputs": [
    {
     "name": "stdout",
     "output_type": "stream",
     "text": [
      "Best alpha for Lasso Regression using 5-fold cross validation on Train dataset is:  \n",
      "     model     alpha       mse\n",
      "79  lasso  0.001707  0.014767\n"
     ]
    }
   ],
   "source": [
    "mask = (df_lasso['mse']==df_lasso['mse'].min())\n",
    "print('Best alpha for Lasso Regression using 5-fold cross validation on Train dataset is: ','\\n',df_lasso[mask])"
   ]
  },
  {
   "cell_type": "code",
   "execution_count": 22,
   "metadata": {},
   "outputs": [
    {
     "name": "stdout",
     "output_type": "stream",
     "text": [
      "Best alpha for Ridge Regression using 5-fold cross validation on Train dataset is:  \n",
      "     model     alpha       mse\n",
      "57  ridge  6.135907  0.014815\n"
     ]
    }
   ],
   "source": [
    "mask = (df_ridge_exp['mse']==df_ridge_exp['mse'].min())\n",
    "print('Best alpha for Ridge Regression using 5-fold cross validation on Train dataset is: ','\\n',df_ridge_exp[mask])"
   ]
  },
  {
   "cell_type": "markdown",
   "metadata": {},
   "source": [
    "1. The alpha value has increased for both Lasso and Ridge regression when we took the exponential of the target.\n",
    "2. MSE values have also increased if compared with the exponential. It is because our target variable has changed. "
   ]
  },
  {
   "cell_type": "markdown",
   "metadata": {},
   "source": [
    "## Q5"
   ]
  },
  {
   "cell_type": "code",
   "execution_count": 23,
   "metadata": {},
   "outputs": [],
   "source": [
    "## 5\n",
    "from sklearn.linear_model import ElasticNet\n",
    "\n",
    "alpha_list = 10**np.linspace(10,-6,100) \n",
    "\n",
    "df_elastic_net = pd.DataFrame()\n",
    "df_elastic_net['alpha'] = ''\n",
    "df_elastic_net['GRE_Score'] = ''\n",
    "df_elastic_net['TOEFL_Score'] = ''\n",
    "df_elastic_net['University_Rating'] = ''\n",
    "df_elastic_net['SOP'] = ''\n",
    "df_elastic_net['LOR'] = ''\n",
    "df_elastic_net['CGPA'] = ''\n",
    "df_elastic_net['Research'] = ''\n",
    "\n",
    "for index,alpha in enumerate(alpha_list):\n",
    "    elastic_net = ElasticNet(alpha=alpha).fit(train_x,train_y)\n",
    "    \n",
    "    \n",
    "    df_elastic_net.loc[index,'alpha'] = alpha\n",
    "    df_elastic_net.loc[index,'GRE_Score'] = elastic_net.coef_[0]\n",
    "    df_elastic_net.loc[index,'TOEFL_Score'] = elastic_net.coef_[1]\n",
    "    df_elastic_net.loc[index,'University_Rating'] = elastic_net.coef_[2]\n",
    "    df_elastic_net.loc[index,'SOP'] = elastic_net.coef_[3]\n",
    "    df_elastic_net.loc[index,'LOR'] = elastic_net.coef_[4]\n",
    "    df_elastic_net.loc[index,'CGPA'] = elastic_net.coef_[5]\n",
    "    df_elastic_net.loc[index,'Research'] = elastic_net.coef_[6]"
   ]
  },
  {
   "cell_type": "code",
   "execution_count": 24,
   "metadata": {},
   "outputs": [
    {
     "data": {
      "text/plain": [
       "Text(0.5, 1.0, 'Alpha Vs Coefficient Weights for Elastic Regression')"
      ]
     },
     "execution_count": 24,
     "metadata": {},
     "output_type": "execute_result"
    },
    {
     "data": {
      "image/png": "[encoded data removed]",
      "text/plain": [
       "<Figure size 432x288 with 1 Axes>"
      ]
     },
     "metadata": {
      "needs_background": "light"
     },
     "output_type": "display_data"
    }
   ],
   "source": [
    "df_elastic_net['log_alpha'] = df_elastic_net['alpha'].apply(lambda x: np.log10(x))\n",
    "plt.plot(df_elastic_net['log_alpha'],df_elastic_net['GRE_Score'],label='GRE_Score')\n",
    "plt.plot(df_elastic_net['log_alpha'],df_elastic_net['TOEFL_Score'],label='TOEFL_Score')\n",
    "plt.plot(df_elastic_net['log_alpha'],df_elastic_net['University_Rating'],label='University_Rating')\n",
    "plt.plot(df_elastic_net['log_alpha'],df_elastic_net['SOP'],label='SOP')\n",
    "plt.plot(df_elastic_net['log_alpha'],df_elastic_net['LOR'],label='LOR')\n",
    "plt.plot(df_elastic_net['log_alpha'],df_elastic_net['CGPA'],label='CGPA')\n",
    "plt.plot(df_elastic_net['log_alpha'],df_elastic_net['Research'],label='Research')\n",
    "plt.legend(loc='best')\n",
    "plt.xlabel('alpha')\n",
    "plt.ylabel('coefficient weights')\n",
    "plt.title('Alpha Vs Coefficient Weights for Elastic Regression')"
   ]
  },
  {
   "cell_type": "code",
   "execution_count": 25,
   "metadata": {},
   "outputs": [
    {
     "data": {
      "text/plain": [
       "0.0"
      ]
     },
     "execution_count": 25,
     "metadata": {},
     "output_type": "execute_result"
    }
   ],
   "source": [
    "df_elastic_net['GRE_Score'].min()"
   ]
  },
  {
   "cell_type": "markdown",
   "metadata": {},
   "source": [
    "1. Based on the graph of Alpha vs Coefficient weight of Lasso Regression model, we can see a sudden drop in the values of coefficients when alpha increases. This sudden drop is favorable when we need feature selection i.e features which are not important are made 0. For correlated features, Lasso regression increases the coefficient of one parameter while reducing the other one to nearly 0.\n",
    "\n",
    "\n",
    "2. Based on the graph of Alpha vs Coefficient weight of Ridge Regression model, we can see that coefficients decrease and ultimated tend to zero when alpha increases. However the drop is smooth and coefficients are never equal to 0, always nearer to 0. Ridge regression penalizes the sum so square of weights and for significantly higher values of alpha, the coefficients tend to zero but are not equal to 0. Ridge is a regularization parameter that does not do feature selection like Lasso. For correlated features, Ridge regression keeps weight of both the features similar.\n",
    "\n",
    "\n",
    "3. Elatic net is the combination of both Lasso and Ridge. Thus based on Elastic net graph, we can see that for a certain value oh alpha, coefficient weight's decrease in a smooth manner but for very large alpha values, then are equal to 0. This it combines the property of Ridge regression in smoothly decreasing the coefficient weights but also performs feature selection when alpha values are higher."
   ]
  },
  {
   "cell_type": "markdown",
   "metadata": {},
   "source": [
    "## Q6"
   ]
  },
  {
   "cell_type": "code",
   "execution_count": 26,
   "metadata": {},
   "outputs": [],
   "source": [
    "from sklearn.metrics import r2_score"
   ]
  },
  {
   "cell_type": "code",
   "execution_count": 27,
   "metadata": {},
   "outputs": [
    {
     "name": "stdout",
     "output_type": "stream",
     "text": [
      "For Linear Regression with no regularization: \n",
      "MSE on Test Dataset: 0.00452631924220003\n",
      "R-Square on Test Dataset: 0.731068476318641\n",
      "\n",
      "\n",
      "For Linear Regression with Lasso regularization: \n",
      "MSE on Test Dataset: 0.00451807667641608\n",
      "R-Square on Test Dataset: 0.7315582088489176\n",
      "\n",
      "\n",
      "For Linear Regression with Ridge regularization: \n",
      "MSE on Test Dataset: 0.0045008394814539535\n",
      "R-Square on Test Dataset: 0.7325823578002195\n"
     ]
    }
   ],
   "source": [
    "## 7\n",
    "alpha_list = 10**np.linspace(10,-6,100) \n",
    "\n",
    "\n",
    "df_linear = pd.DataFrame()\n",
    "df_linear['mse'] = ''\n",
    "\n",
    "reg_linear = linear_model.LinearRegression().fit(train_x,train_y)\n",
    "print('For Linear Regression with no regularization: ')\n",
    "print('MSE on Test Dataset:', mean_squared_error(test_y,reg_linear.predict(test_x))) \n",
    "print('R-Square on Test Dataset:', r2_score(test_y,reg_linear.predict(test_x))) \n",
    "\n",
    "print('\\n')\n",
    "reg_lasso = linear_model.Lasso(alpha=0.001177).fit(train_x,train_y)\n",
    "print('For Linear Regression with Lasso regularization: ')\n",
    "print('MSE on Test Dataset:', mean_squared_error(test_y,reg_lasso.predict(test_x))) \n",
    "print('R-Square on Test Dataset:', r2_score(test_y,reg_lasso.predict(test_x))) \n",
    "print('\\n')\n",
    "\n",
    "reg_ridge = linear_model.Ridge(alpha=4.229243).fit(train_x,train_y)\n",
    "print('For Linear Regression with Ridge regularization: ')\n",
    "print('MSE on Test Dataset:', mean_squared_error(test_y,reg_ridge.predict(test_x))) \n",
    "print('R-Square on Test Dataset:', r2_score(test_y,reg_ridge.predict(test_x))) "
   ]
  },
  {
   "cell_type": "markdown",
   "metadata": {},
   "source": [
    "## Q7"
   ]
  },
  {
   "cell_type": "code",
   "execution_count": 28,
   "metadata": {},
   "outputs": [],
   "source": [
    "## 1\n",
    "from sklearn.model_selection import train_test_split\n",
    "from sklearn.preprocessing import scale\n",
    "\n",
    "df = pd.read_csv('Admission.csv', index_col=0)\n",
    "df = df.replace([np.inf, -np.inf], np.nan) # \n",
    "df = df.fillna(0) # Replace all the NaN values with 0\n",
    "\n",
    "y = df['Chance_of_Admit'] # The column named Chance_of_Admit is used as the target, and we store it in y\n",
    "X = df.drop(['Chance_of_Admit'], axis=1) # We keep the remaining columns as the features, and store them in x\n",
    "\n",
    "y = y.values\n",
    "train_x, test_x, train_y, test_y = train_test_split(X, y, test_size=0.25, random_state=50)"
   ]
  },
  {
   "cell_type": "code",
   "execution_count": 29,
   "metadata": {},
   "outputs": [
    {
     "name": "stdout",
     "output_type": "stream",
     "text": [
      "For Linear Regression with no regularization: \n",
      "MSE on Test Dataset: 0.004526319242200025\n",
      "R-Square on Test Dataset: 0.7310684763186415\n",
      "\n",
      "\n",
      "For Linear Regression with Lasso regularization: \n",
      "MSE on Test Dataset: 0.004588809980015277\n",
      "R-Square on Test Dataset: 0.7273555854602274\n",
      "\n",
      "\n",
      "For Linear Regression with Ridge regularization: \n",
      "MSE on Test Dataset: 0.004518216578227919\n",
      "R-Square on Test Dataset: 0.7315498965745484\n"
     ]
    }
   ],
   "source": [
    "## 7\n",
    "alpha_list = 10**np.linspace(10,-6,100) \n",
    "\n",
    "\n",
    "df_linear = pd.DataFrame()\n",
    "df_linear['mse'] = ''\n",
    "\n",
    "reg_linear = linear_model.LinearRegression().fit(train_x,train_y)\n",
    "print('For Linear Regression with no regularization: ')\n",
    "print('MSE on Test Dataset:', mean_squared_error(test_y,reg_linear.predict(test_x))) \n",
    "print('R-Square on Test Dataset:', r2_score(test_y,reg_linear.predict(test_x))) \n",
    "\n",
    "print('\\n')\n",
    "reg_lasso = linear_model.Lasso(alpha=0.001177).fit(train_x,train_y)\n",
    "print('For Linear Regression with Lasso regularization: ')\n",
    "print('MSE on Test Dataset:', mean_squared_error(test_y,reg_lasso.predict(test_x))) \n",
    "print('R-Square on Test Dataset:', r2_score(test_y,reg_lasso.predict(test_x))) \n",
    "print('\\n')\n",
    "\n",
    "reg_ridge = linear_model.Ridge(alpha=4.229243).fit(train_x,train_y)\n",
    "print('For Linear Regression with Ridge regularization: ')\n",
    "print('MSE on Test Dataset:', mean_squared_error(test_y,reg_ridge.predict(test_x))) \n",
    "print('R-Square on Test Dataset:', r2_score(test_y,reg_ridge.predict(test_x))) \n",
    "    \n"
   ]
  },
  {
   "cell_type": "markdown",
   "metadata": {},
   "source": [
    "**We need to scale data befor regularization because regularization (Ridge or Lasso) penalizes the weights of the coefficients. If we regularize it before scaling then a feature with small values will have a higher weight and thus will be penalized more. This will increase bias in our model as the model will not be able to accurately learn the target feature.**\n",
    "\n",
    "As we can see, Lasso and Ridge R-Square have decreased slightly when used it without scaling"
   ]
  }
 ],
 "metadata": {
  "colab": {
   "collapsed_sections": [],
   "name": "MIS 382N - HW1.ipynb",
   "provenance": []
  },
  "kernelspec": {
   "display_name": "Python 3",
   "language": "python",
   "name": "python3"
  },
  "language_info": {
   "codemirror_mode": {
    "name": "ipython",
    "version": 3
   },
   "file_extension": ".py",
   "mimetype": "text/x-python",
   "name": "python",
   "nbconvert_exporter": "python",
   "pygments_lexer": "ipython3",
   "version": "3.8.8"
  }
 },
 "nbformat": 4,
 "nbformat_minor": 1
}
